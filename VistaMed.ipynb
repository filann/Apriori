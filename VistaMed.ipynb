
{
 "cells": [
  {
   "cell_type": "markdown",
   "metadata": {},
   "source": [
    "# Аббревиатуры "
   ]
  },
  {
   "cell_type": "markdown",
   "metadata": {},
   "source": [
    "- ОМС - Обязательное медицинское страхование Подробнее: http://thedifference.ru/chem-otlichaetsya-dms-ot-oms/\n",
    "- ДМС - Добровольное медицинское страхование Подробнее: http://thedifference.ru/chem-otlichaetsya-dms-ot-oms/\n",
    "- СОМП - случай оказываемой медицинской помощи\n",
    "- КСГ - клиника статистическая группа (стационар - услуги, операции, но мы ему присваиваем группу)\n",
    "- СМО - страховая медицинская организация"
   ]
  },
  {
   "cell_type": "markdown",
   "metadata": {},
   "source": [
    "# Введение"
   ]
  },
  {
   "cell_type": "markdown",
   "metadata": {},
   "source": [
    "В настоящее время объемы любых данных, будь то корпоративная база данных, хранящая факты о клиентах или продажах, настолько массивны, что для человека это просто не по силам - проанализировать их самостоятельно. Отсюда вытекает ряд проблем у многих компаний, занимающихся разработкой и внедрением программного обеспечения в учреждения здравоохранения. Сотрудникам организаций, обеспечивающих медицинские учреждения, приходится проверять огромные объемы информации. \n",
    " "
   ]
  },
  {
   "cell_type": "markdown",
   "metadata": {},
   "source": [
    "\n",
    "Одним из решений может стать выявление ассоциативных правил в базе данных.  Рассмотрим алгоритм Apriori, который находит закономерности между связанными данными."
   ]
  },
  {
   "cell_type": "markdown",
   "metadata": {},
   "source": [
    "В данной работе выявим правила, некие знания, в базе данных, содержащей медицинские карточки клиентов, проходящих обслуживание в поликлиниках. Тем самым мы сможем в дальнейшем определять, допущена ли ошибка в заполнении той или иной карте.\n"
   ]
  },
  {
   "cell_type": "markdown",
   "metadata": {},
   "source": [
    "# Постановка задачи"
   ]
  },
  {
   "cell_type": "markdown",
   "metadata": {},
   "source": [
    "В данной работе рассмотрим следующие задачи:\n",
    "    1. Адаптировать алгоритм нахождения ассоциативных правил в данных, полученных заполнением медицинских карточек.\n",
    "    2. Применить полученные правила для выявления и анализа зависимостей между теми или иными данными.\n",
    "    3. Рассмотреть возможное применение обнаруженных правил для дальнейшего контроля заполнения мед. карточек"
   ]
  },
  {
   "cell_type": "markdown",
   "metadata": {},
   "source": [
    "# 1. Алгоритм нахождения ассоциативных данных"
   ]
  },
  {
   "cell_type": "markdown",
   "metadata": {},
   "source": [
    "Под термином \"транзакция\" мы будем понимать данные о пациенте, внесенные врачом в его карту: возраст, пол, диагноз и т.д. Пример такой транзакции: sex = Male, medic = Врач-хирург, ... Количественные данные, такие как возраст, будем обозначать интервалом: age = 14-18."
   ]
  },
  {
   "cell_type": "markdown",
   "metadata": {},
   "source": [
    "Тем самым мы получим некое количество транзакций, число которых равно числу пациентов. "
   ]
  },
  {
   "cell_type": "markdown",
   "metadata": {},
   "source": [
    "Попробуем выявить в них знания, уделяя особое внимание тем полям, в которых часто допускаются ошибки при заполнении."
   ]
  },
  {
   "cell_type": "markdown",
   "metadata": {},
   "source": [
    "### 1.1 Рассмотрим ошибки, связанные с несоответствием должности специалиста и характеристик пациента(возраста, пола и диагноза) "
   ]
  },
  {
   "cell_type": "markdown",
   "metadata": {},
   "source": [
    "*Данный набор ошибок взят из cправочника [\"Причины возврата счетов\" SPR15](http://www.kubanoms.ru/infirmac_obmen1.html) *\n",
    "\n",
    "\n",
    "* 351 - значение в поле \"Пол\" не соответствует диагнозу\n",
    "* 361 - мужчине в гинекологии оказаны медицинские услуги\n",
    "* 362 - в урологии оказаны медицинские услуги: Мужчине с диагнозами N70-N98, N99.2, N99.3 или Женщине с диагнозами N40-N51\n",
    "* 507 - профиль ОМП (или специальность врача) не соответствует диагнозу\n",
    "* 508 - профиль ОМП (или специальность врача) не соответсвуют возрасту пациента\n",
    "* 861 - оказанная медицинская услуга не соответствует полу пациента\n",
    "* 875 - условие оказания поликлинической МП или медицинская услуга не соответствует возрасту пациента\n",
    "* 911 - несоответствие профиля оказанной МП и специальности медицинского сотрудника\n",
    "* 931 - Диагноз не соответствует специальности\n",
    "\n",
    "\n"
   ]
  },
  {
   "cell_type": "markdown",
   "metadata": {},
   "source": [
    "**Постановка задачи:** для проверки такого рода ошибок составим правило Х -> У такое, чтобы Х(характеристики пациента) соотвествовали врачу У."
   ]
  },
  {
   "cell_type": "markdown",
   "metadata": {},
   "source": [
    "**Обработка данных:** сделаем выборку, состящую из: пола(1 - М, 2 - Ж), возраста, диагноза пациента; специальности медицинского работника."
   ]
  },
  {
   "cell_type": "code",
   "execution_count": 1,
   "metadata": {
    "collapsed": false
   },
   "outputs": [],
   "source": [
    "import mysql.connector"
   ]
  },
  {
   "cell_type": "code",
   "execution_count": 18,
   "metadata": {
    "collapsed": false
   },
   "outputs": [
    {
     "name": "stdout",
     "output_type": "stream",
     "text": [
      "(2, 47, 'Обращение в учреждения здравоохранения для медицинского осмотра и обследования', 'Врач-терапевт участковый')\n",
      "(2, 47, 'Потенциальная опасность для здоровья, связанная с инфекционными болезнями', 'Врач-терапевт участковый')\n",
      "(2, 70, 'Обращение в учреждения здравоохранения для медицинского осмотра и обследования', 'Врач-терапевт участковый')\n",
      "(1, 21, 'Болезни пищевода, желудка и двенадцатиперстной кишки', 'Врач-терапевт участковый')\n",
      "(1, 54, 'Болезни наружного уха', 'Врач-невролог')\n",
      "(1, 54, 'Болезни полости рта, слюнных желез и челюстей', 'Врач-невролог')\n",
      "(1, 54, 'Болезни пищевода, желудка и двенадцатиперстной кишки', 'Врач-невролог')\n",
      "(1, 54, 'Мочекаменная болезнь', 'Врач-невролог')\n",
      "(1, 54, 'Болезни мышц глаза, нарушения содружественного движения глаз, аккомодации и рефракции', 'Врач-невролог')\n",
      "(1, 54, 'Болезни наружного уха', 'Врач-отоларинголог')\n"
     ]
    }
   ],
   "source": [
    "db = mysql.connector.connect(user='root', password='12345', host='127.0.0.1', database='newdata')\n",
    "query = db.cursor()\n",
    "query.execute(\"\"\"SELECT DISTINCT  client.sex,\n",
    "     TIMESTAMPDIFF(year, client.birthDate, action.createDatetime) as age, \n",
    "     mkb.BlockName, \n",
    "     rbpost.name\n",
    "    FROM diagnosis \n",
    "    JOIN mkb ON diagnosis.mkb = mkb.diagid\n",
    "    JOIN client ON diagnosis.client_id = client.id\n",
    "    JOIN event ON event.client_id = client.id\n",
    "    JOIN action ON action.event_id = event.id\n",
    "    JOIN person ON action.person_id = person.id\n",
    "    JOIN rbpost ON person.post_id = rbpost.id LIMIT 10\n",
    "\"\"\")\n",
    "for i in query.fetchall():\n",
    "    print(i)\n",
    "db.close()"
   ]
  },
  {
   "cell_type": "markdown",
   "metadata": {
    "collapsed": true
   },
   "source": [
    "Создадим выборку из 100 тыс. таких записей в карточках. Запишем ее в *csv* файл для дальнейшего применения на ней алгоритма [*Apriori*](https://en.wikipedia.org/wiki/Apriori_algorithm)"
   ]
  },
  {
   "cell_type": "code",
   "execution_count": 9,
   "metadata": {
    "collapsed": true
   },
   "outputs": [],
   "source": [
    "import csv\n",
    "\n",
    "wf = open('Problem_1.csv', 'w', newline='\\n')\n",
    "writer = csv.writer(wf, delimiter=';', quotechar='|')\n",
    "    \n",
    "def write(a):\n",
    "    writer.writerow(a)"
   ]
  },
  {
   "cell_type": "code",
   "execution_count": 23,
   "metadata": {
    "collapsed": false
   },
   "outputs": [],
   "source": [
    "import mysql.connector\n",
    "\n",
    "db = mysql.connector.connect(user='root', password='12345', host='127.0.0.1', database='newdata')\n",
    "query = db.cursor()\n",
    "query.execute(\"\"\"SELECT DISTINCT  client.sex,\n",
    "     TIMESTAMPDIFF(year, client.birthDate, action.createDatetime) as age, \n",
    "     mkb.BlockName, \n",
    "     rbpost.name\n",
    "    FROM diagnosis \n",
    "    JOIN mkb ON diagnosis.mkb = mkb.diagid\n",
    "    JOIN client ON diagnosis.client_id = client.id\n",
    "    JOIN event ON event.client_id = client.id\n",
    "    JOIN action ON action.event_id = event.id\n",
    "    JOIN person ON action.person_id = person.id\n",
    "    JOIN rbpost ON person.post_id = rbpost.id LIMIT 100000\n",
    "\"\"\")\n",
    "for i in query.fetchall():\n",
    "    write(i)\n",
    "    \n",
    "    \n",
    "wf.close()\n",
    "db.close()"
   ]
  },
  {
   "cell_type": "markdown",
   "metadata": {
    "collapsed": true
   },
   "source": [
    "Записав выборку в Problem_1.csv, перейдем к поиску правил. Для этого нам надо преобразовать данные в базу транзакций. Воспользуемся пакетом [arules](https://cran.r-project.org/web/packages/arules/index.html) языка R.\n",
    "* Cчитаем базу из файла, бинаризуем данные и построим правила, используя альгоритм apriori с поддержкой равной 0,00001 и достоверностью - 0,1. \n"
   ]
  },
  {
   "cell_type": "markdown",
   "metadata": {},
   "source": [
    "* У нас получилось 50647 правил. Выделим из них те, которые слева содержат характеристики, а справа специальности врачей. Для этого зададим параметру rhs(right-hand-side) ту характеристику(DOCTOR), которую хотим видеть справа. "
   ]
  },
  {
   "cell_type": "markdown",
   "metadata": {},
   "source": [
    "* В итоге получим 6348 правил, подходящих под наши требования"
   ]
  },
  {
   "cell_type": "markdown",
   "metadata": {},
   "source": [
    "Запишем выборку только для Врача-хирурга, тем самым увелечим значение параметра *support* "
   ]
  },
  {
   "cell_type": "code",
   "execution_count": 6,
   "metadata": {
    "collapsed": true
   },
   "outputs": [],
   "source": [
    "import csv\n",
    "\n",
    "wf = open('Problem_obstetrician.csv', 'w', newline='\\n')\n",
    "writer = csv.writer(wf, delimiter=';', quotechar='|')\n",
    "    \n",
    "def write(a):\n",
    "    writer.writerow(a)"
   ]
  },
  {
   "cell_type": "code",
   "execution_count": 7,
   "metadata": {
    "collapsed": true
   },
   "outputs": [],
   "source": [
    "import mysql.connector\n",
    "\n",
    "db = mysql.connector.connect(user='root', password='12345', host='127.0.0.1', database='newdata')\n",
    "query = db.cursor()\n",
    "query.execute(\"\"\"select DISTINCT  client.sex,\n",
    "     TIMESTAMPDIFF(year, client.birthDate, diagnostic.createDatetime) as age, \n",
    "     mkb.BlockName, \n",
    "     rbpost.name\n",
    "    from diagnostic\n",
    "    join person on diagnostic.person_id = person.id\n",
    "    join rbpost on person.post_id = rbpost.id\n",
    "    join diagnosis on diagnostic.diagnosis_id = diagnosis.id\n",
    "    join client on diagnosis.client_id = client.id\n",
    "    join mkb on diagnosis.mkb = mkb.diagid\n",
    "    where rbpost.name = 'Акушерка'\n",
    "\"\"\")\n",
    "for i in query.fetchall():\n",
    "    write(i)\n",
    "    \n",
    "    \n",
    "wf.close()\n",
    "db.close()\n"
   ]
  },
  {
   "cell_type": "markdown",
   "metadata": {},
   "source": [
    "*Хирург*\n",
    "- itemFrequencyPlot - s=0.1\n",
    "- rules - s=0.0001"
   ]
  },
  {
   "cell_type": "markdown",
   "metadata": {},
   "source": [
    "*Акушерка*\n",
    "- пол и диагноз \n",
    "- специальность и диагноз \n",
    "- специальность и возраст \n",
    "- диагноз и возраст (supp = 0.00001, conf = 0.001,)\n",
    "- специальность и пол (supp = 0.00001, conf = 0.01)"
   ]
  },
  {
   "cell_type": "markdown",
   "metadata": {},
   "source": [
    "Пол и специальность: "
   ]
  },
  {
   "cell_type": "markdown",
   "metadata": {},
   "source": [
    "Диагноз и возраст ([*полная версия*](https://public.tableau.com/profile/publish/Diagnosisandage/Sheet1#!/publish-confirm))"
   ]
  },
  {
   "cell_type": "markdown",
   "metadata": {},
   "source": [
    "### 1.2 Ошибки, связанные с несоответствием возраста пациента и проведенной для него процедуры"
   ]
  },
  {
   "cell_type": "markdown",
   "metadata": {},
   "source": [
    "* 894 - электрокардиография не проведена (либо проведена не по возрасту)\n",
    "* 895 - не проведена флюорография (с возраста 15 лет) (либо проведена не по возрасту)\n",
    "* 896 - не проведена нейросонография (детям первого года жизни) (либо проведена не по возрасту)\n",
    "\n",
    "* 898 - не проведено УЗИ органов брюшной полости, сердца\n",
    "* 899 - не проведено УЗИ тазобедренных суставов (детям первого года жизни) (либо проведена не по возрасту)"
   ]
  },
  {
   "cell_type": "markdown",
   "metadata": {},
   "source": [
    "**Данные:** для проверки такого рода ошибок составим правило Х -> У такое, чтобы Х(характеристики пациента) соотвествовали врачу У. Для этого сделаем выборку возраста пациента и услуги, которые ему прописали. "
   ]
  },
  {
   "cell_type": "code",
   "execution_count": 4,
   "metadata": {
    "collapsed": false
   },
   "outputs": [],
   "source": [
    "import csv\n",
    "\n",
    "wf = open('Problem_2.csv', 'w', newline='\\n')\n",
    "writer = csv.writer(wf, delimiter=';', quotechar='|')\n",
    "\n",
    "def write(a):\n",
    "    b = []\n",
    "    b.append(a[0])\n",
    "    if a[1] == 'Прием (осмотр, консультация) врача ■ травматолога-ортопеда первичный':\n",
    "        b.append('Прием (осмотр, консультация) врача травматолога-ортопеда первичный')\n",
    "    elif a[1] == 'Прием (осмотр, консультация) врача ■ травматолога-ортопеда повторный':\n",
    "        b.append('Прием (осмотр, консультация) врача травматолога-ортопеда повторный')\n",
    "    else: \n",
    "        b.append(a[1])\n",
    "    writer.writerow(b)"
   ]
  },
  {
   "cell_type": "code",
   "execution_count": null,
   "metadata": {
    "collapsed": false
   },
   "outputs": [],
   "source": [
    "import mysql.connector\n",
    "\n",
    "db = mysql.connector.connect(user='root', password='12345', host='127.0.0.1', database='newdata')\n",
    "query = db.cursor()\n",
    "query.execute(\"\"\"SELECT DISTINCT TIMESTAMPDIFF(year, client.birthDate, event.createDatetime) as age,\n",
    "    actiontype.name as service\n",
    "    FROM client \n",
    "    JOIN event ON client.id = event.client_id\n",
    "    JOIN action ON action.event_id = event.id\n",
    "    JOIN actiontype ON action.actionType_id = actiontype.id LIMIT 10000\n",
    "\"\"\")\n",
    "\n",
    "#for i in query.fetchall():\n",
    "#    write(i)\n",
    "    \n",
    "    \n",
    "#wf.close()\n",
    "db.close()"
   ]
  },
  {
   "cell_type": "markdown",
   "metadata": {},
   "source": [
    "Далее проделаем все то же, что и в пункте 1."
   ]
  },
  {
   "cell_type": "markdown",
   "metadata": {},
   "source": [
    "*Для выявления большего количества \"знаний\" приходится брать поддержку как можно маньше.*"
   ]
  },
  {
   "cell_type": "markdown",
   "metadata": {},
   "source": [
    "* Применим ItemFrequencyPlot с support = 0.01 и получим распределение "
   ]
  },
  {
   "cell_type": "markdown",
   "metadata": {},
   "source": [
    "* В итоге получим 1513 правил(support = 0.0001). Используем приложение [Tableau Public](https://public.tableau.com/s/) для удобной визуализации решения. "
   ]
  },
  {
   "cell_type": "markdown",
   "metadata": {},
   "source": [
    "Рассмотрим еще один вид графика, построенного в [Tableau Public](https://public.tableau.com/s/):"
   ]
  },
  {
   "cell_type": "markdown",
   "metadata": {},
   "source": [
    "* 897 - не проведено УЗИ щетовидной железы и органов репродуктивной сферы (с возраста 7 лет) (либо проведена не по возрасту)"
   ]
  },
  {
   "cell_type": "markdown",
   "metadata": {},
   "source": [
    "### 1.3"
   ]
  },
  {
   "cell_type": "code",
   "execution_count": 1,
   "metadata": {
    "collapsed": true
   },
   "outputs": [],
   "source": [
    "import csv\n",
    "\n",
    "wf = open('Problem_whole.csv', 'w', newline='\\n')\n",
    "writer = csv.writer(wf, delimiter=';', quotechar='|')\n",
    "    \n",
    "def write(a):\n",
    "    writer.writerow(a)"
   ]
  },
  {
   "cell_type": "code",
   "execution_count": 2,
   "metadata": {
    "collapsed": true
   },
   "outputs": [],
   "source": [
    "import mysql.connector\n",
    "\n",
    "db = mysql.connector.connect(user='root', password='12345', host='127.0.0.1', database='newdata')\n",
    "query = db.cursor()\n",
    "query.execute(\"\"\"select  \n",
    "   rbeventtypepurpose.name as rbeventtypepurpose_name, \n",
    "   rbfinance.name as rbfinance_name,\n",
    "   rbmedicalaidkind.name as rbmedicalaidkind_name, \n",
    "   rbmedicalaidtype.name as rbmedicalaidtype_name,\n",
    "   TIMESTAMPDIFF(year, client.birthDate, event.createDatetime) as client_age,\n",
    "   client.sex as client_sex,\n",
    "   rbpost.name as execperson_name,\n",
    "   rbspeciality.name as rbspeciality_name,\n",
    "   rbdocumenttype.name as rbdocumenttype_name,\n",
    "   visit.isPrimary as visit_isPrimary,\n",
    "   action.status as action_status,\n",
    "   contract.regionalTariffRegulationFactor as contract_regionalTariffRegulationFactor\n",
    "from event\n",
    "join eventtype on event.eventType_id = eventtype.id\n",
    "join rbeventtypepurpose on eventtype.purpose_id = rbeventtypepurpose.id\n",
    "join rbfinance on eventtype.finance_id = rbfinance.id\n",
    "join rbmedicalaidkind on eventtype.medicalAidKind_id = rbmedicalaidkind.id\n",
    "join rbmedicalaidtype on eventtype.medicalAidtype_id = rbmedicalaidtype.id\n",
    "join client on event.client_id = client.id\n",
    "join person on event.execPerson_id = person.id\n",
    "join rbpost on person.post_id = rbpost.id\n",
    "join rbspeciality on person.speciality_id = rbspeciality.id\n",
    "join clientdocument on  client.id = clientdocument.client_id\n",
    "join rbdocumenttype on clientdocument.documentType_id = rbdocumenttype.id\n",
    "join visit on visit.event_id = event.id\n",
    "join action on event.id = action.event_id\n",
    "join contract on action.contract_id = contract.id limit 100000\n",
    "\"\"\")\n",
    "for i in query.fetchall():\n",
    "    write(i)\n",
    "    \n",
    "    \n",
    "wf.close()\n",
    "db.close()"
   ]
  },
  {
   "cell_type": "markdown",
   "metadata": {},
   "source": [
    "Преобразуем наши карточки в удобный для дальнейшей работы вид. (Позже надо реализовать добавление в карту номера action или event)\n"
   ]
  },
  {
   "cell_type": "code",
   "execution_count": 37,
   "metadata": {
    "collapsed": false
   },
   "outputs": [],
   "source": [
    "import csv\n",
    "\n",
    "fieldnames = ['id','rbeventtypepurpose_name','rbfinance_name','rbmedicalaidkind_name','rbmedicalaidtype_name',\n",
    "              'client_age','client_sex','execperson_name',\n",
    "              'rbspeciality_name','rbdocumenttype_name']\n",
    "\n",
    "list_of_cards = []\n",
    "one_card = dict.fromkeys(fieldnames)\n",
    "count = -1\n",
    "with open('Problem_whole.csv', 'r') as csvfile:\n",
    "    filereader = csv.reader(csvfile, delimiter=';', quotechar='|')\n",
    "    for row in filereader:\n",
    "        one_card = dict.fromkeys(fieldnames)\n",
    "        if (count >= 0):\n",
    "            j = 0\n",
    "            for key in one_card:\n",
    "                one_card[key] = row[j][1:len(row[j]) - 1]\n",
    "                j += 1\n",
    "            list_of_cards.append(one_card)\n",
    "        count += 1\n",
    "            \n",
    "        "
   ]
  },
  {
   "cell_type": "code",
   "execution_count": 38,
   "metadata": {
    "collapsed": false
   },
   "outputs": [
    {
     "data": {
      "text/plain": [
       "{'client_age': '60-100',\n",
       " 'client_sex': 'Female',\n",
       " 'execperson_name': 'Врач-терапевт',\n",
       " 'id': '17',\n",
       " 'rbdocumenttype_name': 'ПАСПОРТ РОССИИ',\n",
       " 'rbeventtypepurpose_name': 'Дневной стационар',\n",
       " 'rbfinance_name': 'ОМС',\n",
       " 'rbmedicalaidkind_name': 'специализированная медицинская помощь',\n",
       " 'rbmedicalaidtype_name': 'Стационар дневного пребывания взрослый',\n",
       " 'rbspeciality_name': 'Терапевт'}"
      ]
     },
     "execution_count": 38,
     "metadata": {},
     "output_type": "execute_result"
    }
   ],
   "source": [
    "list_of_cards[16]"
   ]
  },
  {
   "cell_type": "markdown",
   "metadata": {},
   "source": [
    "Подготовим наши правила:"
   ]
  },
  {
   "cell_type": "code",
   "execution_count": 39,
   "metadata": {
    "collapsed": false
   },
   "outputs": [],
   "source": [
    "class HashMap:\n",
    "    def __init__(self):\n",
    "        self.size = 1000\n",
    "        self.map = [None] * self.size\n",
    "        \n",
    "    def _get_hash(self, key):\n",
    "        hash = 0 \n",
    "        for char in str(key):\n",
    "            hash += ord(char)\n",
    "        return hash % self.size\n",
    "    \n",
    "    def add(self, key, value):\n",
    "        key_hash = self._get_hash(key)\n",
    "        key_value = [key, value]\n",
    "        \n",
    "        if self.map[key_hash] is None:\n",
    "            self.map[key_hash] = list([key_value])\n",
    "            return True\n",
    "        else:\n",
    "            for pair in self.map[key_hash]:\n",
    "                if pair[0] == key:\n",
    "                    pair[1] += '*' + value\n",
    "                    return True\n",
    "            self.map[key_hash].append(key_value)\n",
    "            return True\n",
    "        \n",
    "    def get(self, key):\n",
    "        key_hash = self._get_hash(key)\n",
    "        if self.map[key_hash] is not None:\n",
    "            for pair in self.map[key_hash]:\n",
    "                if pair[0] == key:\n",
    "                    return pair[1]\n",
    "        return None\n",
    "    \n",
    "    def delete(self, key):\n",
    "        key_hash = self._get_hash(key)\n",
    "        if self.map[key_hash] is None:\n",
    "            return False\n",
    "        for i in range (0, len(self.map[key_hash])):\n",
    "            if self.map[key_hash][i][0] == key:\n",
    "                self.map[key_hash].pop(i)\n",
    "                return True\n",
    "    \n",
    "    def print(self):\n",
    "        for item in self.map:\n",
    "            if item is not None:\n",
    "                print(str(item))\n",
    "                "
   ]
  },
  {
   "cell_type": "code",
   "execution_count": 49,
   "metadata": {
    "collapsed": false
   },
   "outputs": [],
   "source": [
    "import csv\n",
    "\n",
    "list_of_rules = HashMap()\n",
    "left_part_of_rules = []\n",
    "count = -1\n",
    "\n",
    "with open('result_09_08.csv', 'r') as csvfile:\n",
    "    filereader = csv.reader(csvfile, delimiter=';', quotechar='|')\n",
    "    for row in filereader:\n",
    "        if (count >= 0):\n",
    "            \n",
    "            lhs = row[1].index('=>', 0, len(row[1])) \n",
    "            rule_lhs = row[1][2:lhs - 2]\n",
    "            rule_rhs = row[1][lhs + 4:len(row[1]) - 2]\n",
    "            \n",
    "            if (rule_lhs != '') and (rule_rhs != ''):\n",
    "                \n",
    "                equal = rule_rhs.find('=', 0, len(rule_rhs))\n",
    "                rule_lhs += '*' + rule_rhs[0: equal]\n",
    "                rule_rhs = rule_rhs[equal + 1:]\n",
    "                \n",
    "                left_part_of_rules.append(rule_lhs)\n",
    "                list_of_rules.add(rule_lhs, rule_rhs)\n",
    "        count += 1"
   ]
  },
  {
   "cell_type": "markdown",
   "metadata": {},
   "source": [
    "Проверка"
   ]
  },
  {
   "cell_type": "code",
   "execution_count": 51,
   "metadata": {
    "collapsed": false
   },
   "outputs": [
    {
     "name": "stdout",
     "output_type": "stream",
     "text": [
      "3.053435114503817\n"
     ]
    }
   ],
   "source": [
    "wf = open('bug_report.csv', 'w', newline='\\n')\n",
    "writer = csv.writer(wf, delimiter=';', quotechar='|')\n",
    "\n",
    "count = 0\n",
    "\n",
    "for i in range(0, len(list_of_cards)):\n",
    "    card = list_of_cards[i]\n",
    "    rules = []\n",
    "    rules.append(list_of_cards[i])\n",
    "    rules.append('')\n",
    "    \n",
    "    mistake = False\n",
    "    \n",
    "    for j in range(0, len(left_part_of_rules)):\n",
    "        error = False;\n",
    "        lhs = left_part_of_rules[j]\n",
    "        rule = lhs\n",
    "    \n",
    "        #left side\n",
    "        while (lhs.find('=', 0, len(lhs)) != -1) and (error == False):\n",
    "            \n",
    "            equal = lhs.find('=', 0, len(lhs))\n",
    "            check_key = str(lhs[0: equal])\n",
    "            \n",
    "            end = lhs.find(\",\", 0, len(lhs))\n",
    "            if end == -1:\n",
    "                end = lhs.find('*', 0, len(lhs))\n",
    "            check_value = str(lhs[equal + 1: end])\n",
    "    \n",
    "            if card.get(check_key) != check_value: \n",
    "                error = True # наличие несоответствия левой части правила и карточки\n",
    "            \n",
    "            lhs = lhs[end + 1:]\n",
    "            \n",
    "        #right side\n",
    "        if (error == False):\n",
    "            rhs = list_of_rules.get(rule)\n",
    "            right_card = False\n",
    "\n",
    "            if rhs.find('*', 0, len(rhs)) == -1:\n",
    "                if card.get(lhs) == rhs: \n",
    "                    right_card = True # в этом месте в карте ошибка не допущена\n",
    "            else:         \n",
    "                while (rhs.find('*', 0, len(rhs)) != -1):\n",
    "    \n",
    "                    star = rhs.find('*', 0, len(rhs))\n",
    "        \n",
    "                    k = str(rhs[0: star])\n",
    "                    \n",
    "                    if card.get(k) == rhs:\n",
    "                        right_card = True\n",
    "                    rhs = rhs[star + 1:]\n",
    "            \n",
    "            if right_card == False: # ошибка допущена\n",
    "                mistake = True\n",
    "                mis = [rule, list_of_rules.get(rule)]\n",
    "                rules.append(mis)\n",
    "    writer.writerow(rules)\n",
    "    if (mistake == True): \n",
    "        count += 1\n",
    "wf.close()   \n",
    "print(count * 100 / (len(list_of_cards) + 1))"
   ]
  },
  {
   "cell_type": "markdown",
   "metadata": {},
   "source": [
    "|                          | Эксперимент 1       | Эксперимент 2     |\n",
    "| ------------------------ |---------------------| ------------------|\n",
    "| support, %               | 80                  |     90            |\n",
    "| confidence, %            | 80                  |     80            |\n",
    "| неправильный карточки, % | 18,914334181509755  |3.053435114503817  |"
   ]
  },
  {
   "cell_type": "code",
   "execution_count": null,
   "metadata": {
    "collapsed": true
   },
   "outputs": [],
   "source": []
  }
 ],
 "metadata": {
  "kernelspec": {
   "display_name": "Python 3",
   "language": "python",
   "name": "python3"
  },
  "language_info": {
   "codemirror_mode": {
    "name": "ipython",
    "version": 3
   },
   "file_extension": ".py",
   "mimetype": "text/x-python",
   "name": "python",
   "nbconvert_exporter": "python",
   "pygments_lexer": "ipython3",
   "version": "3.6.0"
  }
 },
 "nbformat": 4,
 "nbformat_minor": 0
}
